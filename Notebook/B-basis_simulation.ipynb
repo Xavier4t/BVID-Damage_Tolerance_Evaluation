{
 "cells": [
  {
   "cell_type": "markdown",
   "metadata": {},
   "source": [
    "## DAMAGE TOLERANCE AND THREAD ASSESMENT"
   ]
  },
  {
   "cell_type": "markdown",
   "metadata": {},
   "source": [
    "Let's consider a Barely Visible Impact Damage (BVID) on a composite skin panel with integrated stringers (Category 1, CSET 4.3 Addressing Damage and Defects, slides 58-61).\n",
    "The process for damage tolerance evaluation would be (AC 20-107B, Paragrah 8. Proof of Structure -  Fatigue and Damage Tolerance):\n",
    "\n",
    "Damage assessment  and Inspection (slides 31-32, 36, 124):\n",
    "   - Impact testing at various energies to establish BVID threshold.\n",
    "   - Internal damage extend mapping (NDIs)\n",
    "   - Microscopy to understand damage morphology.\n",
    "\n",
    "Analysis (slide 60):\n",
    "   - FEM of damaged region.\n",
    "   - Prediction of residual strength.\n",
    "   - Assessment of damage growth potential.\n",
    "   - Must withstand Ultimate Load capability\n",
    "   - Maintain structural integrity through aircraft's lifecycle.\n",
    "\n",
    "Testing approach (slide 9, CMH-17 Building Block Testing Approach):\n",
    "   - Static strength tests of damaged specimens.\n",
    "   - Fatigue testing under spectrum loading.\n",
    "   - Full-scale validation testing.\n",
    "   - Envirommental effects must be considered.\n",
    "\n",
    "Category 1 damage design drivers: \n",
    "\n",
    "Minimum Skin Thickness:\n",
    "   - Must be sufficient to prevent penetration.\n",
    "   - Should provide adequate impact resistance\n",
    "\n",
    "Stringer Spacing (slide 113):\n",
    "   - Affects panel buckling behavior with damage.\n",
    "   - Influences damage containment capability.\n",
    "\n",
    "Laminate Stacking (slide 14):\n",
    "    - Material and stacking sequence affects damage distribution.\n",
    "    - Optimization needed between matrix cracks, delamination, and fiber breakage.\n",
    "\n"
   ]
  },
  {
   "cell_type": "markdown",
   "metadata": {},
   "source": [
    "One of the important aspects of the program you outlined is determining the residual strength with statistical significance so a B-Basis, let's say, in the presence of BVID can be established.  And this B-Basis must account for environmental effects.  If we have three main environments of interest (in addition to RTA), which are Cold Temperature Dry, Room Temperature Wet and Elevated Temperature Wet, do you need to do enough tests at each environment to get the scatter and the B-Basis for each and, if yes, how many tests would you recommend?"
   ]
  },
  {
   "cell_type": "code",
   "execution_count": 2,
   "metadata": {},
   "outputs": [],
   "source": [
    "import numpy as np\n",
    "import pandas as pd\n",
    "import seaborn as sns\n",
    "import matplotlib.pyplot as plt\n",
    "import matplotlib.gridspec as gridspec\n",
    "from scipy.optimize import fsolve\n",
    "from scipy.stats import anderson_ksamp\n",
    "from scipy import stats\n",
    "from matplotlib.patches import Patch\n"
   ]
  },
  {
   "cell_type": "markdown",
   "metadata": {},
   "source": [
    "##### Approach 1: Full B-Basis Calculation"
   ]
  },
  {
   "cell_type": "code",
   "execution_count": null,
   "metadata": {},
   "outputs": [],
   "source": [
    "# Approach 1: Full B-Basis Calculation\n",
    "def calculate_full_b_basis_sample_size(sigma=.06, d_error=.05):\n",
    "    \"\"\"\n",
    "    Calculation of the required sample size for B-basis values (90% probability with 95% confidence)\n",
    "    Simulation values:\n",
    "    Z_alpha for 90% probability = 1.645\n",
    "    Z_beta for 95% confidence = 1.96\n",
    "    Parameters:\n",
    "    sigma = coefficient of variation\n",
    "    d_error =  acceptable error\n",
    "    Returns:\n",
    "    n = sample size\n",
    "\n",
    "    \"\"\"\n",
    "    Z_alpha = 1.645  \n",
    "    Z_beta = 1.96   \n",
    "    n = ((Z_alpha + Z_beta) * sigma/d_error)**2\n",
    "    return np.ceil(n)"
   ]
  },
  {
   "cell_type": "markdown",
   "metadata": {},
   "source": [
    "##### Approach 2: Environmental Knockdown Factors"
   ]
  },
  {
   "cell_type": "code",
   "execution_count": null,
   "metadata": {},
   "outputs": [],
   "source": [
    "def calculate_knockdown_sample_size(std_dev=.06, k_error=.04):\n",
    "    \"\"\"\n",
    "    Calculation of the sample size for environmental knockdown factors\n",
    "    Simulation value:\n",
    "    t-value for 95% confidence = 2.201\n",
    "    Parameters:\n",
    "    std_dev = standard deviation\n",
    "    k_error = margin of error\n",
    "    Returns:\n",
    "    n = sample size\n",
    "    \"\"\"\n",
    "    t_value = 2.201  \n",
    "    n = (t_value * std_dev/k_error)**2\n",
    "    return np.ceil(n)"
   ]
  },
  {
   "cell_type": "markdown",
   "metadata": {},
   "source": [
    "##### Approach 3: Statistical Power Analysis"
   ]
  },
  {
   "cell_type": "code",
   "execution_count": null,
   "metadata": {},
   "outputs": [],
   "source": [
    "def calculate_validation_sample_size(effect_size=1.0, power=0.8):\n",
    "    \"\"\"\n",
    "    Calculation of the sample size for validation testing based on power analysis\n",
    "    Simulation value:\n",
    "    Z_alpha for 90% probability = 1.645\n",
    "    Parameters:\n",
    "    effect size\n",
    "    power\n",
    "    Returns:\n",
    "    n = sample size\n",
    "    \"\"\"\n",
    "    Z_alpha = 1.645\n",
    "    Z_beta = stats.norm.ppf(power)\n",
    "    n = ((Z_alpha + Z_beta)/effect_size)**2\n",
    "    return np.ceil(n)"
   ]
  },
  {
   "cell_type": "markdown",
   "metadata": {},
   "source": [
    "##### Function to simulate and analyze composite test data"
   ]
  },
  {
   "cell_type": "code",
   "execution_count": 11,
   "metadata": {},
   "outputs": [],
   "source": [
    "def analyze_composite_data(n_samples, mean_strength=100, cv=0.06):\n",
    "    \"\"\"\n",
    "    Simulates and analyzes composite test data\n",
    "    Parameters:\n",
    "    n_samples = sample size\n",
    "    mean_strength\n",
    "    cv\n",
    "    Returns:\n",
    "    data = simulation of test data (normal distribution)\n",
    "    mean = mean value of the simulated data\n",
    "    std =  std deviation of the simulated data\n",
    "    b_basis = B-basis value\n",
    "    ad_stat = the Anderson-Darling test statistic.\n",
    "    ad_crit =the critical values for this distribution.\n",
    "    ad_sig = the significance levels for the corresponding critical values in percents\n",
    "\n",
    "    Anderson-Darling test statistics: https://docs.scipy.org/doc/scipy/reference/generated/scipy.stats.anderson.html\n",
    "\n",
    "    \"\"\"\n",
    "    std_dev = mean_strength * cv\n",
    "    data = np.random.normal(mean_strength, std_dev, n_samples)\n",
    "    \n",
    "    # Mean and standard deviation of the simulated data\n",
    "    mean = np.mean(data)\n",
    "    std = np.std(data, ddof=1)\n",
    "    \n",
    "    # B-basis value at 90% probability\n",
    "    k_value = stats.norm.ppf(0.90) \n",
    "    b_basis = mean - k_value * std\n",
    "\n",
    "     # Anderson-Darling test for normality\n",
    "    ad_stat, ad_crit, ad_sig = stats.anderson(data)\n",
    "    \n",
    "    return data, mean, std, b_basis, ad_stat, ad_crit, ad_sig"
   ]
  },
  {
   "cell_type": "markdown",
   "metadata": {},
   "source": [
    "##### k-sample Anderson-Darling test"
   ]
  },
  {
   "cell_type": "code",
   "execution_count": 12,
   "metadata": {},
   "outputs": [],
   "source": [
    "def perform_anderson_ksamp_test(samples_dict):\n",
    "    \"\"\"\n",
    "    Perform k-sample Anderson-Darling test on multiple environmental conditions\n",
    "    \n",
    "    Parameters:\n",
    "    samples_dict: dictionary with environmental conditions as keys and data arrays as values\n",
    "    \n",
    "    Returns:\n",
    "    statistic: Anderson-Darling test statistic\n",
    "    critical_values: critical values for different significance levels\n",
    "    p_value: p-value of the test\n",
    "    \n",
    "    \"\"\"\n",
    "    # Extract samples from dictionary\n",
    "    samples = list(samples_dict.values())\n",
    "    \n",
    "    # Perform k-sample Anderson-Darling test\n",
    "    statistic, critical_values, p_value = anderson_ksamp(samples)\n",
    "    \n",
    "    return statistic, critical_values, p_value"
   ]
  }
 ],
 "metadata": {
  "kernelspec": {
   "display_name": "DatumAero",
   "language": "python",
   "name": "python3"
  },
  "language_info": {
   "codemirror_mode": {
    "name": "ipython",
    "version": 3
   },
   "file_extension": ".py",
   "mimetype": "text/x-python",
   "name": "python",
   "nbconvert_exporter": "python",
   "pygments_lexer": "ipython3",
   "version": "3.12.3"
  }
 },
 "nbformat": 4,
 "nbformat_minor": 2
}
