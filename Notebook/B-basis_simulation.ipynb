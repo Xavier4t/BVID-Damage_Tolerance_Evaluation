{
 "cells": [
  {
   "cell_type": "markdown",
   "metadata": {},
   "source": [
    "## DAMAGE TOLERANCE AND THREAD ASSESMENT"
   ]
  },
  {
   "cell_type": "markdown",
   "metadata": {},
   "source": [
    "Let's consider a Barely Visible Impact Damage (BVID) on a composite skin panel with integrated stringers (Category 1, CSET 4.3 Addressing Damage and Defects, slides 58-61).\n",
    "The process for damage tolerance evaluation would be (AC 20-107B, Paragrah 8. Proof of Structure -  Fatigue and Damage Tolerance):\n",
    "\n",
    "Damage assessment  and Inspection (slides 31-32, 36, 124):\n",
    "   - Impact testing at various energies to establish BVID threshold.\n",
    "   - Internal damage extend mapping (NDIs)\n",
    "   - Microscopy to understand damage morphology.\n",
    "\n",
    "Analysis (slide 60):\n",
    "   - FEM of damaged region.\n",
    "   - Prediction of residual strength.\n",
    "   - Assessment of damage growth potential.\n",
    "   - Must withstand Ultimate Load capability\n",
    "   - Maintain structural integrity through aircraft's lifecycle.\n",
    "\n",
    "Testing approach (slide 9, CMH-17 Building Block Testing Approach):\n",
    "   - Static strength tests of damaged specimens.\n",
    "   - Fatigue testing under spectrum loading.\n",
    "   - Full-scale validation testing.\n",
    "   - Envirommental effects must be considered.\n",
    "\n",
    "Category 1 damage design drivers: \n",
    "\n",
    "Minimum Skin Thickness:\n",
    "   - Must be sufficient to prevent penetration.\n",
    "   - Should provide adequate impact resistance\n",
    "\n",
    "Stringer Spacing (slide 113):\n",
    "   - Affects panel buckling behavior with damage.\n",
    "   - Influences damage containment capability.\n",
    "\n",
    "Laminate Stacking (slide 14):\n",
    "    - Material and stacking sequence affects damage distribution.\n",
    "    - Optimization needed between matrix cracks, delamination, and fiber breakage.\n",
    "\n"
   ]
  },
  {
   "cell_type": "markdown",
   "metadata": {},
   "source": [
    "One of the important aspects of the program you outlined is determining the residual strength with statistical significance so a B-Basis, let's say, in the presence of BVID can be established.  And this B-Basis must account for environmental effects.  If we have three main environments of interest (in addition to RTA), which are Cold Temperature Dry, Room Temperature Wet and Elevated Temperature Wet, do you need to do enough tests at each environment to get the scatter and the B-Basis for each and, if yes, how many tests would you recommend?"
   ]
  },
  {
   "cell_type": "code",
   "execution_count": 2,
   "metadata": {},
   "outputs": [],
   "source": [
    "import numpy as np\n",
    "import pandas as pd\n",
    "import seaborn as sns\n",
    "import matplotlib.pyplot as plt\n",
    "import matplotlib.gridspec as gridspec\n",
    "from scipy.optimize import fsolve\n",
    "from scipy.stats import anderson_ksamp\n",
    "from scipy import stats\n",
    "from matplotlib.patches import Patch\n"
   ]
  },
  {
   "cell_type": "markdown",
   "metadata": {},
   "source": [
    "##### Approach 1: Full B-Basis Calculation"
   ]
  },
  {
   "cell_type": "code",
   "execution_count": null,
   "metadata": {},
   "outputs": [],
   "source": [
    "# Approach 1: Full B-Basis Calculation\n",
    "def calculate_full_b_basis_sample_size(sigma=.06, d_error=.05):\n",
    "    \"\"\"\n",
    "    Calculation of the required sample size for B-basis values (90% probability with 95% confidence)\n",
    "    Simulation values:\n",
    "    Z_alpha for 90% probability = 1.645\n",
    "    Z_beta for 95% confidence = 1.96\n",
    "    Parameters:\n",
    "    sigma = coefficient of variation\n",
    "    d_error =  acceptable error\n",
    "    Returns:\n",
    "    n = sample size\n",
    "\n",
    "    \"\"\"\n",
    "    Z_alpha = 1.645  \n",
    "    Z_beta = 1.96   \n",
    "    n = ((Z_alpha + Z_beta) * sigma/d_error)**2\n",
    "    return np.ceil(n)"
   ]
  },
  {
   "cell_type": "markdown",
   "metadata": {},
   "source": [
    "##### Approach 2: Environmental Knockdown Factors"
   ]
  },
  {
   "cell_type": "code",
   "execution_count": null,
   "metadata": {},
   "outputs": [],
   "source": [
    "def calculate_knockdown_sample_size(std_dev=.06, k_error=.04):\n",
    "    \"\"\"\n",
    "    Calculation of the sample size for environmental knockdown factors\n",
    "    Simulation value:\n",
    "    t-value for 95% confidence = 2.201\n",
    "    Parameters:\n",
    "    std_dev = standard deviation\n",
    "    k_error = margin of error\n",
    "    Returns:\n",
    "    n = sample size\n",
    "    \"\"\"\n",
    "    t_value = 2.201  \n",
    "    n = (t_value * std_dev/k_error)**2\n",
    "    return np.ceil(n)"
   ]
  },
  {
   "cell_type": "markdown",
   "metadata": {},
   "source": [
    "##### Approach 3: Statistical Power Analysis"
   ]
  },
  {
   "cell_type": "code",
   "execution_count": null,
   "metadata": {},
   "outputs": [],
   "source": [
    "def calculate_validation_sample_size(effect_size=1.0, power=0.8):\n",
    "    \"\"\"\n",
    "    Calculation of the sample size for validation testing based on power analysis\n",
    "    Simulation value:\n",
    "    Z_alpha for 90% probability = 1.645\n",
    "    Parameters:\n",
    "    effect size\n",
    "    power\n",
    "    Returns:\n",
    "    n = sample size\n",
    "    \"\"\"\n",
    "    Z_alpha = 1.645\n",
    "    Z_beta = stats.norm.ppf(power)\n",
    "    n = ((Z_alpha + Z_beta)/effect_size)**2\n",
    "    return np.ceil(n)"
   ]
  },
  {
   "cell_type": "markdown",
   "metadata": {},
   "source": [
    "##### Function to simulate and analyze composite test data"
   ]
  },
  {
   "cell_type": "code",
   "execution_count": 11,
   "metadata": {},
   "outputs": [],
   "source": [
    "def analyze_composite_data(n_samples, mean_strength=100, cv=0.06):\n",
    "    \"\"\"\n",
    "    Simulates and analyzes composite test data\n",
    "    Parameters:\n",
    "    n_samples = sample size\n",
    "    mean_strength\n",
    "    cv\n",
    "    Returns:\n",
    "    data = simulation of test data (normal distribution)\n",
    "    mean = mean value of the simulated data\n",
    "    std =  std deviation of the simulated data\n",
    "    b_basis = B-basis value\n",
    "    ad_stat = the Anderson-Darling test statistic.\n",
    "    ad_crit =the critical values for this distribution.\n",
    "    ad_sig = the significance levels for the corresponding critical values in percents\n",
    "\n",
    "    Anderson-Darling test statistics: https://docs.scipy.org/doc/scipy/reference/generated/scipy.stats.anderson.html\n",
    "\n",
    "    \"\"\"\n",
    "    std_dev = mean_strength * cv\n",
    "    data = np.random.normal(mean_strength, std_dev, n_samples)\n",
    "    \n",
    "    # Mean and standard deviation of the simulated data\n",
    "    mean = np.mean(data)\n",
    "    std = np.std(data, ddof=1)\n",
    "    \n",
    "    # B-basis value at 90% probability\n",
    "    k_value = stats.norm.ppf(0.90) \n",
    "    b_basis = mean - k_value * std\n",
    "\n",
    "     # Anderson-Darling test for normality\n",
    "    ad_stat, ad_crit, ad_sig = stats.anderson(data)\n",
    "    \n",
    "    return data, mean, std, b_basis, ad_stat, ad_crit, ad_sig"
   ]
  },
  {
   "cell_type": "markdown",
   "metadata": {},
   "source": [
    "##### k-sample Anderson-Darling test"
   ]
  },
  {
   "cell_type": "code",
   "execution_count": 31,
   "metadata": {},
   "outputs": [],
   "source": [
    "def perform_anderson_ksamp_test(samples_dict):\n",
    "    \"\"\"\n",
    "    Perform k-sample Anderson-Darling test on multiple environmental conditions\n",
    "    \n",
    "    Parameters:\n",
    "    samples_dict: dictionary with environmental conditions as keys and data arrays as values\n",
    "    \n",
    "    Returns:\n",
    "    statistic: Anderson-Darling test statistic\n",
    "    critical_values: critical values for different significance levels\n",
    "    p_value: p-value of the test\n",
    "    \n",
    "    Anderson K-sample: https://docs.scipy.org/doc/scipy/reference/generated/scipy.stats.anderson_ksamp.html\n",
    "    \"\"\"\n",
    "    # Extract samples from dictionary\n",
    "    samples = list(samples_dict.values())\n",
    "    \n",
    "    # Perform k-sample Anderson-Darling test\n",
    "    method = stats.PermutationMethod(n_resamples=9999, random_state=42)\n",
    "    statistic, critical_values, p_value = anderson_ksamp(samples, method=method)\n",
    "\n",
    "    # For composite material certification and structural analysis, we want 0.05 (5%) as the standard threshold fir critical values\n",
    "    critical_value5 = critical_values[2]\n",
    "    \n",
    "    return statistic, critical_value5, p_value"
   ]
  },
  {
   "cell_type": "markdown",
   "metadata": {},
   "source": [
    "#### Data visualization functions"
   ]
  },
  {
   "cell_type": "code",
   "execution_count": 18,
   "metadata": {},
   "outputs": [],
   "source": [
    "def plot_environmental_distributions(results_dict):\n",
    "    \"\"\"\n",
    "    Create violin plot comparing distributions across environmental conditions\n",
    "    \"\"\"\n",
    "    plt.figure(figsize=(12, 6))\n",
    "    \n",
    "    # Prepare data for plotting\n",
    "    data_list = []\n",
    "    for condition, data in results_dict.items():\n",
    "        df = pd.DataFrame({\n",
    "            'Strength': data['data'],\n",
    "            'Condition': condition\n",
    "        })\n",
    "        data_list.append(df)\n",
    "    \n",
    "    plot_data = pd.concat(data_list)\n",
    "    \n",
    "    # Create violin plot\n",
    "    sns.violinplot(x='Condition', y='Strength', data=plot_data)\n",
    "    plt.title('Distribution Comparison Across Environmental Conditions')\n",
    "    plt.grid(True)\n",
    "    plt.show()"
   ]
  },
  {
   "cell_type": "markdown",
   "metadata": {},
   "source": [
    "#### Environmental conditions"
   ]
  },
  {
   "cell_type": "code",
   "execution_count": 19,
   "metadata": {},
   "outputs": [],
   "source": [
    "conditions = {\n",
    "    'RTD': {'mean': 100, 'cv': 0.06},\n",
    "    'CTD': {'mean': 105, 'cv': 0.06},\n",
    "    'RTW': {'mean': 95, 'cv': 0.06},\n",
    "    'ETW': {'mean': 90, 'cv': 0.06}\n",
    "}"
   ]
  },
  {
   "cell_type": "code",
   "execution_count": 20,
   "metadata": {},
   "outputs": [
    {
     "name": "stdout",
     "output_type": "stream",
     "text": [
      "\n",
      "Results for RTD:\n",
      "Mean: 101.71\n",
      "Standard Deviation: 7.27\n",
      "B-basis value: 92.40\n",
      "Anderson-Darling statistic: 0.261\n",
      "Anderson-Darling significance levels: [15.  10.   5.   2.5  1. ]\n",
      "Anderson-Darling critical values: [0.505 0.575 0.69  0.804 0.957]\n",
      "\n",
      "Results for CTD:\n",
      "Mean: 104.61\n",
      "Standard Deviation: 5.62\n",
      "B-basis value: 97.41\n",
      "Anderson-Darling statistic: 0.154\n",
      "Anderson-Darling significance levels: [15.  10.   5.   2.5  1. ]\n",
      "Anderson-Darling critical values: [0.498 0.567 0.68  0.793 0.944]\n",
      "\n",
      "Results for RTW:\n",
      "Mean: 99.72\n",
      "Standard Deviation: 5.53\n",
      "B-basis value: 92.63\n",
      "Anderson-Darling statistic: 0.295\n",
      "Anderson-Darling significance levels: [15.  10.   5.   2.5  1. ]\n",
      "Anderson-Darling critical values: [0.498 0.567 0.68  0.793 0.944]\n",
      "\n",
      "Results for ETW:\n",
      "Mean: 89.79\n",
      "Standard Deviation: 7.13\n",
      "B-basis value: 80.66\n",
      "Anderson-Darling statistic: 0.362\n",
      "Anderson-Darling significance levels: [15.  10.   5.   2.5  1. ]\n",
      "Anderson-Darling critical values: [0.498 0.567 0.68  0.793 0.944]\n"
     ]
    }
   ],
   "source": [
    "# Dictionary to store results\n",
    "results = {}\n",
    "samples_for_ksamp = {}\n",
    "\n",
    "# Analyze each condition\n",
    "for condition, params in conditions.items():\n",
    "    if condition == 'RTD':\n",
    "        n_samples = int(calculate_full_b_basis_sample_size())\n",
    "    else:\n",
    "        n_samples = int(calculate_knockdown_sample_size())\n",
    "        \n",
    "    data, mean, std, b_basis, ad_stat, ad_crit, ad_sig = analyze_composite_data(\n",
    "        n_samples,\n",
    "        mean_strength=params['mean'],\n",
    "        cv=params['cv']\n",
    "    )\n",
    "    \n",
    "    results[condition] = {\n",
    "        'data': data,\n",
    "        'mean': mean,\n",
    "        'std': std,\n",
    "        'b_basis': b_basis,\n",
    "        'anderson_stat': ad_stat,\n",
    "        'anderson_crit': ad_crit,\n",
    "        'anderson_sig': ad_sig\n",
    "    }\n",
    "    \n",
    "    samples_for_ksamp[condition] = data\n",
    "    \n",
    "    # Print individual condition results\n",
    "    print(f\"\\nResults for {condition}:\")\n",
    "    print(f\"Mean: {mean:.2f}\")\n",
    "    print(f\"Standard Deviation: {std:.2f}\")\n",
    "    print(f\"B-basis value: {b_basis:.2f}\")\n",
    "    print(f\"Anderson-Darling statistic: {ad_stat:.3f}\")\n",
    "    print(\"Anderson-Darling significance levels:\", ad_sig)\n",
    "    print(\"Anderson-Darling critical values:\", ad_crit)"
   ]
  },
  {
   "cell_type": "code",
   "execution_count": 33,
   "metadata": {},
   "outputs": [
    {
     "name": "stdout",
     "output_type": "stream",
     "text": [
      "\n",
      "K-sample Anderson-Darling test results:\n",
      "Statistic: 6.292\n",
      "Critical value: 1.916\n",
      "P-value: 0.0001\n",
      "\n",
      "The distributions are significantly different (reject null hypothesis)\n"
     ]
    }
   ],
   "source": [
    "# Perform k-sample Anderson-Darling test\n",
    "ksamp_stat, ksamp_crit, ksamp_pvalue = perform_anderson_ksamp_test(samples_for_ksamp)\n",
    "\n",
    "print(\"\\nK-sample Anderson-Darling test results:\")\n",
    "print(f\"Statistic: {ksamp_stat:.3f}\")\n",
    "print(f\"Critical value: {ksamp_crit:.3f}\")\n",
    "print(f\"P-value: {ksamp_pvalue:.4f}\")\n",
    "\n",
    "# Interpret results\n",
    "alpha = 0.05\n",
    "if ksamp_pvalue < alpha:\n",
    "    print(\"\\nThe distributions are significantly different (reject null hypothesis)\")\n",
    "else:\n",
    "    print(\"\\nFailed to reject the null hypothesis - distributions may be similar\")"
   ]
  }
 ],
 "metadata": {
  "kernelspec": {
   "display_name": "DatumAero",
   "language": "python",
   "name": "python3"
  },
  "language_info": {
   "codemirror_mode": {
    "name": "ipython",
    "version": 3
   },
   "file_extension": ".py",
   "mimetype": "text/x-python",
   "name": "python",
   "nbconvert_exporter": "python",
   "pygments_lexer": "ipython3",
   "version": "3.12.3"
  }
 },
 "nbformat": 4,
 "nbformat_minor": 2
}
